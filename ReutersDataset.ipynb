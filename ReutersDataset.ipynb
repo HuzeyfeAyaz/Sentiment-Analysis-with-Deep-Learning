{
 "cells": [
  {
   "cell_type": "markdown",
   "metadata": {
    "colab_type": "text",
    "id": "u9ZcF2HOS7bQ"
   },
   "source": [
    "# Sentiment Analysis with Reuters Dataset\n",
    "\n",
    "Reuters Dataset published by Reuters in 1986 with 15 columns, and the dataset consists of short newswires within 46 different topics.\n",
    "\n",
    "<img src=\"images/NewsWires.jpg\">\n",
    "<!-- <div style=\"display: inline-block\"> -->"
   ]
  },
  {
   "cell_type": "code",
   "execution_count": null,
   "metadata": {
    "colab": {},
    "colab_type": "code",
    "id": "zXZpC10Itf78"
   },
   "outputs": [],
   "source": [
    "from keras.datasets import reuters\n",
    "import numpy as np\n",
    "from keras import models, layers\n",
    "import matplotlib.pyplot as plt\n",
    "from keras.utils.np_utils import to_categorical"
   ]
  },
  {
   "cell_type": "code",
   "execution_count": null,
   "metadata": {
    "colab": {},
    "colab_type": "code",
    "id": "911TBD_Ttmjh"
   },
   "outputs": [],
   "source": [
    "(train_data, train_labels), (test_data, test_labels) = reuters.load_data(num_words=10000)"
   ]
  },
  {
   "cell_type": "code",
   "execution_count": null,
   "metadata": {
    "colab": {},
    "colab_type": "code",
    "id": "mNqkDg-UtzAL"
   },
   "outputs": [],
   "source": [
    "word_index = reuters.get_word_index()\n",
    "reverse_word_index = dict(\n",
    "    [(value, key) for key, value in word_index.items()])\n",
    "decoded_newswire = ' '.join(\n",
    "    [reverse_word_index.get(i-3, '?') for i in train_data[0]])"
   ]
  },
  {
   "cell_type": "code",
   "execution_count": null,
   "metadata": {
    "colab": {
     "base_uri": "https://localhost:8080/",
     "height": 54
    },
    "colab_type": "code",
    "executionInfo": {
     "elapsed": 2619,
     "status": "ok",
     "timestamp": 1599911410391,
     "user": {
      "displayName": "Huzeyfe Ayaz",
      "photoUrl": "",
      "userId": "04212809444872264866"
     },
     "user_tz": -180
    },
    "id": "R5_204d5uTeL",
    "outputId": "6aa9e5b4-8bcf-461e-f600-5daf0f1796df"
   },
   "outputs": [
    {
     "data": {
      "application/vnd.google.colaboratory.intrinsic+json": {
       "type": "string"
      },
      "text/plain": [
       "'? ? ? said as a result of its december acquisition of space co it expects earnings per share in 1987 of 1 15 to 1 30 dlrs per share up from 70 cts in 1986 the company said pretax net should rise to nine to 10 mln dlrs from six mln dlrs in 1986 and rental operation revenues to 19 to 22 mln dlrs from 12 5 mln dlrs it said cash flow per share this year should be 2 50 to three dlrs reuter 3'"
      ]
     },
     "execution_count": 4,
     "metadata": {
      "tags": []
     },
     "output_type": "execute_result"
    }
   ],
   "source": [
    "decoded_newswire"
   ]
  },
  {
   "cell_type": "code",
   "execution_count": null,
   "metadata": {
    "colab": {
     "base_uri": "https://localhost:8080/",
     "height": 72
    },
    "colab_type": "code",
    "executionInfo": {
     "elapsed": 2610,
     "status": "ok",
     "timestamp": 1599911410393,
     "user": {
      "displayName": "Huzeyfe Ayaz",
      "photoUrl": "",
      "userId": "04212809444872264866"
     },
     "user_tz": -180
    },
    "id": "_3FremX1AXiq",
    "outputId": "b477202c-b8e9-4eba-d121-40f2c471f336"
   },
   "outputs": [
    {
     "name": "stdout",
     "output_type": "stream",
     "text": [
      "Train data shape: (8982,)\n",
      "Test data shape: (2246,)\n",
      "Number of lables: 46\n"
     ]
    }
   ],
   "source": [
    "print('Train data shape:', train_data.shape)\n",
    "print('Test data shape:', test_data.shape)\n",
    "print('Number of lables:', len(np.unique(train_labels)))"
   ]
  },
  {
   "cell_type": "markdown",
   "metadata": {
    "colab_type": "text",
    "id": "miFwWKlCL4Rq"
   },
   "source": [
    "* We have 8982 training, 2246 test samples consisting of 46 unique labels, and totally, we have 11228 individuals."
   ]
  },
  {
   "cell_type": "markdown",
   "metadata": {
    "colab_type": "text",
    "id": "ky8gYkmByrVE"
   },
   "source": [
    "Similar to the IMDB dataset, let's vectorize the newswire's sequence."
   ]
  },
  {
   "cell_type": "code",
   "execution_count": null,
   "metadata": {
    "colab": {},
    "colab_type": "code",
    "id": "gwIwDYxvu-Ed"
   },
   "outputs": [],
   "source": [
    "def vectorize_sequence(sequences, dimension=10000):\n",
    "  results = np.zeros((len(sequences), dimension))\n",
    "  for i, sequence in enumerate(sequences):\n",
    "    results[i, sequence] = 1.\n",
    "  return results\n",
    "\n",
    "x_train = vectorize_sequence(train_data)\n",
    "x_test = vectorize_sequence(test_data)"
   ]
  },
  {
   "cell_type": "code",
   "execution_count": null,
   "metadata": {
    "colab": {},
    "colab_type": "code",
    "id": "0sl8L_xVvJFv"
   },
   "outputs": [],
   "source": [
    "y_train = to_categorical(train_labels)\n",
    "y_test = to_categorical(test_labels)"
   ]
  },
  {
   "cell_type": "markdown",
   "metadata": {
    "colab_type": "text",
    "id": "mE8OC5qgejh1"
   },
   "source": [
    "1000 samples are split as validation data."
   ]
  },
  {
   "cell_type": "code",
   "execution_count": null,
   "metadata": {
    "colab": {},
    "colab_type": "code",
    "id": "9Q6H-RslwzF5"
   },
   "outputs": [],
   "source": [
    "x_val = x_train[:1000]\n",
    "partial_x_train = x_train[1000:]\n",
    "\n",
    "y_val = y_train[:1000]\n",
    "partial_y_train = y_train[1000:]"
   ]
  },
  {
   "cell_type": "markdown",
   "metadata": {
    "colab_type": "text",
    "id": "SEEYfT0ifrSW"
   },
   "source": [
    "### Creating and Training Model:\n",
    "\n",
    "* 2 Densely connected layer with 64 units and `Tanh` activation function used for this dataset.\n",
    "\n",
    "<div style=\"display: inline-block\"><img src=\"images/Tanh.png\"></div>\n",
    "\n",
    "* Since we have 46 label output layer has 46 unit with `Softmax` activation function.\n",
    "* In this case, `Adam` is used as an optimizer function, instead of `Rmsprop`. \n",
    "\n",
    "<img src=\"images/Adam.png\" width=480 lenght=360>\n",
    "\n",
    "`Adam` is an optimizer that brings momentum and Rmsprop together to update weights. You can try either of them since Rmsprop and Adam generally give promising results."
   ]
  },
  {
   "cell_type": "code",
   "execution_count": null,
   "metadata": {
    "colab": {
     "base_uri": "https://localhost:8080/",
     "height": 752
    },
    "colab_type": "code",
    "executionInfo": {
     "elapsed": 9884,
     "status": "ok",
     "timestamp": 1599911417704,
     "user": {
      "displayName": "Huzeyfe Ayaz",
      "photoUrl": "",
      "userId": "04212809444872264866"
     },
     "user_tz": -180
    },
    "id": "NwJWEeZKvK2K",
    "outputId": "c2d3e409-8c3e-4999-deab-d5370473850f"
   },
   "outputs": [
    {
     "name": "stdout",
     "output_type": "stream",
     "text": [
      "Epoch 1/20\n",
      "16/16 [==============================] - 0s 23ms/step - loss: 2.9092 - accuracy: 0.4400 - val_loss: 2.0983 - val_accuracy: 0.5400\n",
      "Epoch 2/20\n",
      "16/16 [==============================] - 0s 14ms/step - loss: 1.7484 - accuracy: 0.6096 - val_loss: 1.5326 - val_accuracy: 0.6400\n",
      "Epoch 3/20\n",
      "16/16 [==============================] - 0s 14ms/step - loss: 1.2858 - accuracy: 0.7167 - val_loss: 1.2396 - val_accuracy: 0.7240\n",
      "Epoch 4/20\n",
      "16/16 [==============================] - 0s 14ms/step - loss: 0.9857 - accuracy: 0.7917 - val_loss: 1.0868 - val_accuracy: 0.7600\n",
      "Epoch 5/20\n",
      "16/16 [==============================] - 0s 14ms/step - loss: 0.7797 - accuracy: 0.8490 - val_loss: 0.9905 - val_accuracy: 0.7900\n",
      "Epoch 6/20\n",
      "16/16 [==============================] - 0s 14ms/step - loss: 0.6247 - accuracy: 0.8839 - val_loss: 0.9257 - val_accuracy: 0.8000\n",
      "Epoch 7/20\n",
      "16/16 [==============================] - 0s 14ms/step - loss: 0.5044 - accuracy: 0.9070 - val_loss: 0.8866 - val_accuracy: 0.8160\n",
      "Epoch 8/20\n",
      "16/16 [==============================] - 0s 13ms/step - loss: 0.4124 - accuracy: 0.9276 - val_loss: 0.8631 - val_accuracy: 0.8130\n",
      "Epoch 9/20\n",
      "16/16 [==============================] - 0s 14ms/step - loss: 0.3407 - accuracy: 0.9392 - val_loss: 0.8429 - val_accuracy: 0.8230\n",
      "Epoch 10/20\n",
      "16/16 [==============================] - 0s 14ms/step - loss: 0.2863 - accuracy: 0.9466 - val_loss: 0.8360 - val_accuracy: 0.8170\n",
      "Epoch 11/20\n",
      "16/16 [==============================] - 0s 13ms/step - loss: 0.2426 - accuracy: 0.9518 - val_loss: 0.8335 - val_accuracy: 0.8170\n",
      "Epoch 12/20\n",
      "16/16 [==============================] - 0s 14ms/step - loss: 0.2108 - accuracy: 0.9520 - val_loss: 0.8334 - val_accuracy: 0.8160\n",
      "Epoch 13/20\n",
      "16/16 [==============================] - 0s 14ms/step - loss: 0.1843 - accuracy: 0.9573 - val_loss: 0.8416 - val_accuracy: 0.8150\n",
      "Epoch 14/20\n",
      "16/16 [==============================] - 0s 15ms/step - loss: 0.1653 - accuracy: 0.9577 - val_loss: 0.8434 - val_accuracy: 0.8140\n",
      "Epoch 15/20\n",
      "16/16 [==============================] - 0s 14ms/step - loss: 0.1495 - accuracy: 0.9600 - val_loss: 0.8515 - val_accuracy: 0.8130\n",
      "Epoch 16/20\n",
      "16/16 [==============================] - 0s 13ms/step - loss: 0.1353 - accuracy: 0.9593 - val_loss: 0.8567 - val_accuracy: 0.8100\n",
      "Epoch 17/20\n",
      "16/16 [==============================] - 0s 14ms/step - loss: 0.1243 - accuracy: 0.9604 - val_loss: 0.8661 - val_accuracy: 0.8160\n",
      "Epoch 18/20\n",
      "16/16 [==============================] - 0s 14ms/step - loss: 0.1160 - accuracy: 0.9608 - val_loss: 0.8717 - val_accuracy: 0.8050\n",
      "Epoch 19/20\n",
      "16/16 [==============================] - 0s 14ms/step - loss: 0.1085 - accuracy: 0.9603 - val_loss: 0.8765 - val_accuracy: 0.8050\n",
      "Epoch 20/20\n",
      "16/16 [==============================] - 0s 12ms/step - loss: 0.1030 - accuracy: 0.9597 - val_loss: 0.8872 - val_accuracy: 0.8070\n"
     ]
    }
   ],
   "source": [
    "model = models.Sequential()\n",
    "model.add(layers.Dense(64, activation='tanh', input_shape=(10000,)))\n",
    "model.add(layers.Dense(64, activation='tanh'))\n",
    "model.add(layers.Dense(46, activation='softmax'))\n",
    "\n",
    "model.compile(optimizer='adam', loss='categorical_crossentropy', metrics=['accuracy'])\n",
    "\n",
    "history = model.fit(partial_x_train, partial_y_train, epochs=20, batch_size=512, validation_data=(x_val, y_val))"
   ]
  },
  {
   "cell_type": "code",
   "execution_count": null,
   "metadata": {
    "colab": {
     "base_uri": "https://localhost:8080/",
     "height": 54
    },
    "colab_type": "code",
    "executionInfo": {
     "elapsed": 10260,
     "status": "ok",
     "timestamp": 1599911418095,
     "user": {
      "displayName": "Huzeyfe Ayaz",
      "photoUrl": "",
      "userId": "04212809444872264866"
     },
     "user_tz": -180
    },
    "id": "cFMsPI9MWR-u",
    "outputId": "6167249c-a170-429c-9398-06732a004e9a"
   },
   "outputs": [
    {
     "name": "stdout",
     "output_type": "stream",
     "text": [
      "71/71 [==============================] - 0s 3ms/step - loss: 0.9757 - accuracy: 0.7939\n"
     ]
    },
    {
     "data": {
      "text/plain": [
       "[0.9757151007652283, 0.7938557267189026]"
      ]
     },
     "execution_count": 10,
     "metadata": {
      "tags": []
     },
     "output_type": "execute_result"
    }
   ],
   "source": [
    "model.evaluate(x_test, y_test)"
   ]
  },
  {
   "cell_type": "code",
   "execution_count": null,
   "metadata": {
    "colab": {
     "base_uri": "https://localhost:8080/",
     "height": 573
    },
    "colab_type": "code",
    "executionInfo": {
     "elapsed": 10600,
     "status": "ok",
     "timestamp": 1599911418447,
     "user": {
      "displayName": "Huzeyfe Ayaz",
      "photoUrl": "",
      "userId": "04212809444872264866"
     },
     "user_tz": -180
    },
    "id": "dbpWYihaxUuk",
    "outputId": "141649e5-7580-4455-a728-67af839c7af6"
   },
   "outputs": [
    {
     "data": {
      "image/png": "[encoded data removed]",
      "text/plain": [
       "<Figure size 432x288 with 1 Axes>"
      ]
     },
     "metadata": {
      "needs_background": "light",
      "tags": []
     },
     "output_type": "display_data"
    },
    {
     "data": {
      "image/png": "[encoded data removed]",
      "text/plain": [
       "<Figure size 432x288 with 1 Axes>"
      ]
     },
     "metadata": {
      "needs_background": "light",
      "tags": []
     },
     "output_type": "display_data"
    }
   ],
   "source": [
    "loss = history.history['loss']\n",
    "val_loss = history.history['val_loss']\n",
    "acc = history.history['accuracy']\n",
    "val_acc = history.history['val_accuracy']\n",
    "\n",
    "epochs = range(1, len(loss)+1)\n",
    "x_scale = range(2, len(loss)+1, 2)\n",
    "\n",
    "plt.plot(epochs, loss, 'r', label='Training loss')\n",
    "plt.xticks(x_scale)\n",
    "plt.plot(epochs, val_loss, 'b', label='Validation loss')\n",
    "plt.title('Training and validation loss')\n",
    "plt.xlabel('Epochs')\n",
    "plt.ylabel('Loss')\n",
    "plt.legend()\n",
    "plt.show()\n",
    "\n",
    "\n",
    "plt.clf()\n",
    "plt.plot(epochs, acc, 'r', label='Training accuracy')\n",
    "plt.xticks(x_scale)\n",
    "plt.plot(epochs, val_acc, 'b', label='Validation accuracy')\n",
    "plt.title('Training and validation accuracy')\n",
    "plt.xlabel('Epochs')\n",
    "plt.ylabel('accuracy')\n",
    "plt.legend()\n",
    "plt.show()"
   ]
  },
  {
   "cell_type": "markdown",
   "metadata": {
    "colab_type": "text",
    "id": "dvmhPwIWgmsx"
   },
   "source": [
    "Validation accuracy stops improving roughly after the 9$^{th}$ epoch. Let's set the epoch as 9 for the next model and see the result"
   ]
  },
  {
   "cell_type": "code",
   "execution_count": null,
   "metadata": {
    "colab": {
     "base_uri": "https://localhost:8080/",
     "height": 348
    },
    "colab_type": "code",
    "executionInfo": {
     "elapsed": 13041,
     "status": "ok",
     "timestamp": 1599911420901,
     "user": {
      "displayName": "Huzeyfe Ayaz",
      "photoUrl": "",
      "userId": "04212809444872264866"
     },
     "user_tz": -180
    },
    "id": "JECGziB8yHoi",
    "outputId": "65f9a054-fe16-4c43-ef02-d157b3bf25bd"
   },
   "outputs": [
    {
     "name": "stdout",
     "output_type": "stream",
     "text": [
      "Epoch 1/9\n",
      "16/16 [==============================] - 0s 23ms/step - loss: 2.8432 - accuracy: 0.4907 - val_loss: 2.0154 - val_accuracy: 0.5550\n",
      "Epoch 2/9\n",
      "16/16 [==============================] - 0s 14ms/step - loss: 1.6899 - accuracy: 0.6209 - val_loss: 1.4950 - val_accuracy: 0.6560\n",
      "Epoch 3/9\n",
      "16/16 [==============================] - 0s 13ms/step - loss: 1.2537 - accuracy: 0.7243 - val_loss: 1.2193 - val_accuracy: 0.7270\n",
      "Epoch 4/9\n",
      "16/16 [==============================] - 0s 13ms/step - loss: 0.9692 - accuracy: 0.7992 - val_loss: 1.0667 - val_accuracy: 0.7770\n",
      "Epoch 5/9\n",
      "16/16 [==============================] - 0s 13ms/step - loss: 0.7634 - accuracy: 0.8525 - val_loss: 0.9719 - val_accuracy: 0.8050\n",
      "Epoch 6/9\n",
      "16/16 [==============================] - 0s 14ms/step - loss: 0.6104 - accuracy: 0.8871 - val_loss: 0.9110 - val_accuracy: 0.8130\n",
      "Epoch 7/9\n",
      "16/16 [==============================] - 0s 14ms/step - loss: 0.4930 - accuracy: 0.9124 - val_loss: 0.8675 - val_accuracy: 0.8180\n",
      "Epoch 8/9\n",
      "16/16 [==============================] - 0s 13ms/step - loss: 0.4026 - accuracy: 0.9327 - val_loss: 0.8458 - val_accuracy: 0.8190\n",
      "Epoch 9/9\n",
      "16/16 [==============================] - 0s 13ms/step - loss: 0.3318 - accuracy: 0.9420 - val_loss: 0.8275 - val_accuracy: 0.8240\n"
     ]
    }
   ],
   "source": [
    "model = models.Sequential()\n",
    "model.add(layers.Dense(64, activation='tanh', input_shape=(10000,)))\n",
    "model.add(layers.Dense(64, activation='tanh'))\n",
    "model.add(layers.Dense(46, activation='softmax'))\n",
    "\n",
    "model.compile(optimizer='adam', loss='categorical_crossentropy', metrics=['accuracy'])\n",
    "\n",
    "history = model.fit(partial_x_train, partial_y_train, epochs=9, batch_size=512, validation_data=(x_val, y_val))"
   ]
  },
  {
   "cell_type": "code",
   "execution_count": null,
   "metadata": {
    "colab": {
     "base_uri": "https://localhost:8080/",
     "height": 54
    },
    "colab_type": "code",
    "executionInfo": {
     "elapsed": 13373,
     "status": "ok",
     "timestamp": 1599911421243,
     "user": {
      "displayName": "Huzeyfe Ayaz",
      "photoUrl": "",
      "userId": "04212809444872264866"
     },
     "user_tz": -180
    },
    "id": "JUAW6PA2yego",
    "outputId": "f94d3d58-148e-4d7d-98f4-8b74ec339577"
   },
   "outputs": [
    {
     "name": "stdout",
     "output_type": "stream",
     "text": [
      "71/71 [==============================] - 0s 3ms/step - loss: 0.9054 - accuracy: 0.7921\n"
     ]
    },
    {
     "data": {
      "text/plain": [
       "[0.9054484963417053, 0.7920747995376587]"
      ]
     },
     "execution_count": 13,
     "metadata": {
      "tags": []
     },
     "output_type": "execute_result"
    }
   ],
   "source": [
    "model.evaluate(x_test, y_test)"
   ]
  },
  {
   "cell_type": "code",
   "execution_count": null,
   "metadata": {
    "colab": {
     "base_uri": "https://localhost:8080/",
     "height": 573
    },
    "colab_type": "code",
    "executionInfo": {
     "elapsed": 14009,
     "status": "ok",
     "timestamp": 1599911421908,
     "user": {
      "displayName": "Huzeyfe Ayaz",
      "photoUrl": "",
      "userId": "04212809444872264866"
     },
     "user_tz": -180
    },
    "id": "i6htvD3vyVyl",
    "outputId": "e3337a12-2394-4003-885e-0021ad4d7ff4"
   },
   "outputs": [
    {
     "data": {
      "image/png": "[encoded data removed]",
      "text/plain": [
       "<Figure size 432x288 with 1 Axes>"
      ]
     },
     "metadata": {
      "needs_background": "light",
      "tags": []
     },
     "output_type": "display_data"
    },
    {
     "data": {
      "image/png": "[encoded data removed]",
      "text/plain": [
       "<Figure size 432x288 with 1 Axes>"
      ]
     },
     "metadata": {
      "needs_background": "light",
      "tags": []
     },
     "output_type": "display_data"
    }
   ],
   "source": [
    "loss = history.history['loss']\n",
    "val_loss = history.history['val_loss']\n",
    "acc = history.history['accuracy']\n",
    "val_acc = history.history['val_accuracy']\n",
    "\n",
    "epochs = range(1, len(loss)+1)\n",
    "x_scale = range(1, len(loss)+1)\n",
    "\n",
    "plt.plot(epochs, loss, 'r', label='Training loss')\n",
    "plt.xticks(x_scale)\n",
    "plt.plot(epochs, val_loss, 'b', label='Validation loss')\n",
    "plt.title('Training and validation loss')\n",
    "plt.xlabel('Epochs')\n",
    "plt.ylabel('Loss')\n",
    "plt.legend()\n",
    "plt.show()\n",
    "\n",
    "\n",
    "plt.clf()\n",
    "plt.plot(epochs, acc, 'r', label='Training accuracy')\n",
    "plt.xticks(x_scale)\n",
    "plt.plot(epochs, val_acc, 'b', label='Validation accuracy')\n",
    "plt.title('Training and validation accuracy')\n",
    "plt.xlabel('Epochs')\n",
    "plt.ylabel('accuracy')\n",
    "plt.legend()\n",
    "plt.show()"
   ]
  },
  {
   "cell_type": "markdown",
   "metadata": {
    "colab_type": "text",
    "id": "Ilnl3aeXhFja"
   },
   "source": [
    "Now, we got slightly better validation accuracy within a few epochs."
   ]
  },
  {
   "cell_type": "markdown",
   "metadata": {
    "colab_type": "text",
    "id": "ZpHGKAnrzoCI"
   },
   "source": [
    "### A different way to handle the labels and the loss\n",
    "\n",
    "* We can also directly use labels as numerical values without using their one-hot representations."
   ]
  },
  {
   "cell_type": "code",
   "execution_count": null,
   "metadata": {
    "colab": {},
    "colab_type": "code",
    "id": "DMlhQ-0mzUfN"
   },
   "outputs": [],
   "source": [
    "y_train = np.array(train_labels)\n",
    "y_test = np.array(test_labels)"
   ]
  },
  {
   "cell_type": "code",
   "execution_count": null,
   "metadata": {
    "colab": {},
    "colab_type": "code",
    "id": "U2ACFbQQ0W19"
   },
   "outputs": [],
   "source": [
    "x_val = x_train[:1000]\n",
    "partial_x_train = x_train[1000:]\n",
    "\n",
    "y_val = y_train[:1000]\n",
    "partial_y_train = y_train[1000:]"
   ]
  },
  {
   "cell_type": "code",
   "execution_count": null,
   "metadata": {
    "colab": {
     "base_uri": "https://localhost:8080/",
     "height": 348
    },
    "colab_type": "code",
    "executionInfo": {
     "elapsed": 16413,
     "status": "ok",
     "timestamp": 1599911424350,
     "user": {
      "displayName": "Huzeyfe Ayaz",
      "photoUrl": "",
      "userId": "04212809444872264866"
     },
     "user_tz": -180
    },
    "id": "KMpCudYSzw28",
    "outputId": "1465a243-4c17-4ef0-b2af-40e665864fb7"
   },
   "outputs": [
    {
     "name": "stdout",
     "output_type": "stream",
     "text": [
      "Epoch 1/9\n",
      "16/16 [==============================] - 0s 21ms/step - loss: 2.8502 - accuracy: 0.4838 - val_loss: 2.0121 - val_accuracy: 0.5500\n",
      "Epoch 2/9\n",
      "16/16 [==============================] - 0s 14ms/step - loss: 1.6794 - accuracy: 0.6248 - val_loss: 1.4924 - val_accuracy: 0.6570\n",
      "Epoch 3/9\n",
      "16/16 [==============================] - 0s 13ms/step - loss: 1.2320 - accuracy: 0.7204 - val_loss: 1.2234 - val_accuracy: 0.7280\n",
      "Epoch 4/9\n",
      "16/16 [==============================] - 0s 14ms/step - loss: 0.9492 - accuracy: 0.8012 - val_loss: 1.0637 - val_accuracy: 0.7760\n",
      "Epoch 5/9\n",
      "16/16 [==============================] - 0s 14ms/step - loss: 0.7513 - accuracy: 0.8557 - val_loss: 0.9665 - val_accuracy: 0.8060\n",
      "Epoch 6/9\n",
      "16/16 [==============================] - 0s 15ms/step - loss: 0.6007 - accuracy: 0.8903 - val_loss: 0.9040 - val_accuracy: 0.8190\n",
      "Epoch 7/9\n",
      "16/16 [==============================] - 0s 12ms/step - loss: 0.4853 - accuracy: 0.9148 - val_loss: 0.8632 - val_accuracy: 0.8210\n",
      "Epoch 8/9\n",
      "16/16 [==============================] - 0s 13ms/step - loss: 0.3973 - accuracy: 0.9307 - val_loss: 0.8378 - val_accuracy: 0.8210\n",
      "Epoch 9/9\n",
      "16/16 [==============================] - 0s 12ms/step - loss: 0.3281 - accuracy: 0.9412 - val_loss: 0.8253 - val_accuracy: 0.8220\n"
     ]
    }
   ],
   "source": [
    "model = models.Sequential()\n",
    "model.add(layers.Dense(64, activation='tanh', input_shape=(10000,)))\n",
    "model.add(layers.Dense(64, activation='tanh'))\n",
    "model.add(layers.Dense(46, activation='softmax'))\n",
    "\n",
    "# we should change the loss function from categorical to sparse_categorical for integer values\n",
    "model.compile(optimizer='adam', loss='sparse_categorical_crossentropy', metrics=['accuracy'])\n",
    "\n",
    "history = model.fit(partial_x_train, partial_y_train, epochs=9, batch_size=512, validation_data=(x_val, y_val))"
   ]
  },
  {
   "cell_type": "code",
   "execution_count": null,
   "metadata": {
    "colab": {
     "base_uri": "https://localhost:8080/",
     "height": 54
    },
    "colab_type": "code",
    "executionInfo": {
     "elapsed": 16402,
     "status": "ok",
     "timestamp": 1599911424360,
     "user": {
      "displayName": "Huzeyfe Ayaz",
      "photoUrl": "",
      "userId": "04212809444872264866"
     },
     "user_tz": -180
    },
    "id": "CstxW-A_z_n2",
    "outputId": "99ece1a3-a318-4807-ff41-bb4cbe7f6b56"
   },
   "outputs": [
    {
     "name": "stdout",
     "output_type": "stream",
     "text": [
      "71/71 [==============================] - 0s 2ms/step - loss: 0.9049 - accuracy: 0.7925\n"
     ]
    },
    {
     "data": {
      "text/plain": [
       "[0.9048596620559692, 0.7925200462341309]"
      ]
     },
     "execution_count": 18,
     "metadata": {
      "tags": []
     },
     "output_type": "execute_result"
    }
   ],
   "source": [
    "model.evaluate(x_test, y_test)"
   ]
  },
  {
   "cell_type": "markdown",
   "metadata": {
    "colab_type": "text",
    "id": "pnu6FT_vh1Jx"
   },
   "source": [
    "I strongly recommend you to try different model settings yourself for the sake of practicing. Choosing various optimizers, activation functions, or adding dropout to prevent overfitting are only ones of the options."
   ]
  },
  {
   "cell_type": "code",
   "execution_count": null,
   "metadata": {
    "colab": {
     "base_uri": "https://localhost:8080/",
     "height": 348
    },
    "colab_type": "code",
    "executionInfo": {
     "elapsed": 3004,
     "status": "ok",
     "timestamp": 1599911457762,
     "user": {
      "displayName": "Huzeyfe Ayaz",
      "photoUrl": "",
      "userId": "04212809444872264866"
     },
     "user_tz": -180
    },
    "id": "Em6oSGRZC0QM",
    "outputId": "246be914-e5f3-400a-bb23-31e80e879c4a"
   },
   "outputs": [
    {
     "name": "stdout",
     "output_type": "stream",
     "text": [
      "Epoch 1/9\n",
      "16/16 [==============================] - 0s 19ms/step - loss: 2.5855 - accuracy: 0.5075 - val_loss: 1.7152 - val_accuracy: 0.6140\n",
      "Epoch 2/9\n",
      "16/16 [==============================] - 0s 13ms/step - loss: 1.4430 - accuracy: 0.6868 - val_loss: 1.2745 - val_accuracy: 0.7120\n",
      "Epoch 3/9\n",
      "16/16 [==============================] - 0s 13ms/step - loss: 1.0663 - accuracy: 0.7749 - val_loss: 1.0887 - val_accuracy: 0.7700\n",
      "Epoch 4/9\n",
      "16/16 [==============================] - 0s 13ms/step - loss: 0.8407 - accuracy: 0.8320 - val_loss: 0.9781 - val_accuracy: 0.7970\n",
      "Epoch 5/9\n",
      "16/16 [==============================] - 0s 13ms/step - loss: 0.6793 - accuracy: 0.8663 - val_loss: 0.9090 - val_accuracy: 0.8100\n",
      "Epoch 6/9\n",
      "16/16 [==============================] - 0s 14ms/step - loss: 0.5584 - accuracy: 0.8954 - val_loss: 0.8591 - val_accuracy: 0.8190\n",
      "Epoch 7/9\n",
      "16/16 [==============================] - 0s 13ms/step - loss: 0.4683 - accuracy: 0.9144 - val_loss: 0.8258 - val_accuracy: 0.8220\n",
      "Epoch 8/9\n",
      "16/16 [==============================] - 0s 13ms/step - loss: 0.3980 - accuracy: 0.9272 - val_loss: 0.8028 - val_accuracy: 0.8270\n",
      "Epoch 9/9\n",
      "16/16 [==============================] - 0s 13ms/step - loss: 0.3443 - accuracy: 0.9366 - val_loss: 0.7937 - val_accuracy: 0.8290\n"
     ]
    }
   ],
   "source": [
    "model = models.Sequential()\n",
    "model.add(layers.Dense(128, activation='tanh', input_shape=(10000,)))\n",
    "model.add(layers.Dropout(0.5))\n",
    "model.add(layers.Dense(46, activation='softmax'))\n",
    "\n",
    "model.compile(optimizer='adam', loss='sparse_categorical_crossentropy', metrics=['accuracy'])\n",
    "\n",
    "history = model.fit(partial_x_train, partial_y_train, epochs=9, batch_size=512, validation_data=(x_val, y_val))"
   ]
  },
  {
   "cell_type": "code",
   "execution_count": null,
   "metadata": {
    "colab": {
     "base_uri": "https://localhost:8080/",
     "height": 54
    },
    "colab_type": "code",
    "executionInfo": {
     "elapsed": 3157,
     "status": "ok",
     "timestamp": 1599911458054,
     "user": {
      "displayName": "Huzeyfe Ayaz",
      "photoUrl": "",
      "userId": "04212809444872264866"
     },
     "user_tz": -180
    },
    "id": "rVG57YkAC_rg",
    "outputId": "8422a8a8-0817-443b-f120-d88320dab64c"
   },
   "outputs": [
    {
     "name": "stdout",
     "output_type": "stream",
     "text": [
      "71/71 [==============================] - 0s 3ms/step - loss: 0.8572 - accuracy: 0.8045\n"
     ]
    },
    {
     "data": {
      "text/plain": [
       "[0.8571658134460449, 0.8045414090156555]"
      ]
     },
     "execution_count": 26,
     "metadata": {
      "tags": []
     },
     "output_type": "execute_result"
    }
   ],
   "source": [
    "model.evaluate(x_test, y_test)"
   ]
  },
  {
   "cell_type": "markdown",
   "metadata": {
    "colab_type": "text",
    "id": "FyH25PdrIBVK"
   },
   "source": [
    "As you can see, setting the first layer unit as 128 and replacing the second layer with Dropout with 0.5 probability increased the test accuracy slightly."
   ]
  }
 ],
 "metadata": {
  "accelerator": "GPU",
  "colab": {
   "authorship_tag": "ABX9TyM6RaeF5c4Fhi154Qh0/WSv",
   "collapsed_sections": [],
   "name": "3.12.ReutersDataset.ipynb",
   "provenance": []
  },
  "kernelspec": {
   "display_name": "Python 3",
   "language": "python",
   "name": "python3"
  },
  "language_info": {
   "codemirror_mode": {
    "name": "ipython",
    "version": 3
   },
   "file_extension": ".py",
   "mimetype": "text/x-python",
   "name": "python",
   "nbconvert_exporter": "python",
   "pygments_lexer": "ipython3",
   "version": "3.8.1"
  }
 },
 "nbformat": 4,
 "nbformat_minor": 1
}
